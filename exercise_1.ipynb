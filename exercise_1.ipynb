{
 "cells": [
  {
   "cell_type": "markdown",
   "metadata": {},
   "source": [
    "# DATA20001 Deep Learning 2018 - Exercise 1\n",
    "\n",
    "**Due Sunday November 11, before 23:59**\n"
   ]
  },
  {
   "cell_type": "markdown",
   "metadata": {},
   "source": [
    "## Exercise 1.1. Simple MLP with hand-designed weights\n",
    "\n",
    "Hand-design a simple feedforward network (or MLP) that produces the desired $y$ given the inputs $x_1, x_2, x_3$ as given below:\n",
    "\n",
    "````\n",
    "x1 x2 x3 y\n",
    "0  0  0  0\n",
    "1  0  0  1\n",
    "0  1  0  1\n",
    "1  1  0  0\n",
    "0  0  1  1\n",
    "1  0  1  1\n",
    "0  1  1  1\n",
    "1  1  1  1\n",
    "````\n",
    "\n",
    "In this exercise we will not be training the MLP, but you will have to specify the weights yourself.  You can use any number of layers (although 2 should be enough) and any of the activation functions mentioned in the lectures.\n",
    "\n",
    "You should implement the neural network in Python code using numpy. You can perform each neural network layer as a matrix multiplication (you can use the `@` operator) followed by an activation function as shown in the lectures.\n",
    "\n",
    "Here are some definitions to get you started:"
   ]
  },
  {
   "cell_type": "code",
   "execution_count": null,
   "metadata": {},
   "outputs": [],
   "source": [
    "import numpy as np\n",
    "\n",
    "# The inputs, each row is one input, i.e., x_1, x_2, and x_3\n",
    "X = np.array([[0, 0, 0],\n",
    "              [1, 0, 0],\n",
    "              [0, 1, 0],\n",
    "              [1, 1, 0],\n",
    "              [0, 0, 1],\n",
    "              [1, 0, 1],\n",
    "              [0, 1, 1],\n",
    "              [1, 1, 1]])\n",
    "    \n",
    "# The desired output as a column vector in 2-D array format (.T means transpose)\n",
    "y = np.array([[0,1,1,0,1,1,1,1]]).T"
   ]
  },
  {
   "cell_type": "markdown",
   "metadata": {},
   "source": [
    "Write your solution below as Python code, finally printing the end result. Please also add text fields (you can change a code field to text by selecting \"Markdown\" from the pull-down menu above), or at least some comments in the code."
   ]
  },
  {
   "cell_type": "code",
   "execution_count": null,
   "metadata": {},
   "outputs": [],
   "source": []
  },
  {
   "cell_type": "markdown",
   "metadata": {},
   "source": [
    "## Exercise 1.2 Coming soon"
   ]
  },
  {
   "cell_type": "code",
   "execution_count": null,
   "metadata": {},
   "outputs": [],
   "source": []
  },
  {
   "cell_type": "markdown",
   "metadata": {},
   "source": [
    "## Exercise 1.3 \n",
    "\n",
    "In this exercise we will be implementing a simple feed-forward neural network with numpy in order to learn the XOR rule.\n",
    "\n",
    "Construct a neural network with 4 hidden and 1 output neurons, all using the sigmoid activation function. Implement training the network using gradient descent with backpropagation as described in the lectures and the course book. When training the network, use mean squared error as the cost function.\n",
    "\n",
    "Hint: You can check to make sure your network works correctly by picking weights that are known to work from previously, and running the network on the given X data to make sure it outputs something close to y before trying to implement the training.\n",
    "\n",
    "Hint: Initializing the weights randomly with 2*np.random.random(weight_mtx_shape) - 1 works well in this case.\n"
   ]
  },
  {
   "cell_type": "code",
   "execution_count": null,
   "metadata": {},
   "outputs": [],
   "source": [
    "import numpy as np\n",
    "import matplotlib.pyplot as plt\n",
    "np.random.seed(42)\n",
    "\n",
    "# Learning rate\n",
    "eps = 0.5\n",
    "\n",
    "## XOR data, last column acts as bias\n",
    "X = np.array([[0,0,1],\n",
    "              [0,1,1],\n",
    "              [1,0,1],\n",
    "              [1,1,1]])\n",
    "\n",
    "y = np.array([[0,1,1,0]]).T\n",
    "\n",
    "def sigmoid(z):\n",
    "    # Implement the sigmoid function\n",
    "\n",
    "def cost(y, y_hat):\n",
    "    # Implement the cost function\n",
    "\n",
    "\n",
    "# Initialize the weights\n",
    "\n",
    "\n",
    "# Train the network   "
   ]
  }
 ],
 "metadata": {
  "kernelspec": {
   "display_name": "Python 3",
   "language": "python",
   "name": "python3"
  },
  "language_info": {
   "codemirror_mode": {
    "name": "ipython",
    "version": 3
   },
   "file_extension": ".py",
   "mimetype": "text/x-python",
   "name": "python",
   "nbconvert_exporter": "python",
   "pygments_lexer": "ipython3",
   "version": "3.5.2"
  }
 },
 "nbformat": 4,
 "nbformat_minor": 2
}
